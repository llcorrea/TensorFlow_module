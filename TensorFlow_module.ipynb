{
  "nbformat": 4,
  "nbformat_minor": 0,
  "metadata": {
    "colab": {
      "name": "TensorFlow_module.ipynb",
      "provenance": [],
      "collapsed_sections": [],
      "authorship_tag": "ABX9TyONBi9NUSam/sa6if2Vxk65",
      "include_colab_link": true
    },
    "kernelspec": {
      "name": "python3",
      "display_name": "Python 3"
    },
    "language_info": {
      "name": "python"
    }
  },
  "cells": [
    {
      "cell_type": "markdown",
      "metadata": {
        "id": "view-in-github",
        "colab_type": "text"
      },
      "source": [
        "<a href=\"https://colab.research.google.com/github/llcorrea/TensorFlow_module/blob/main/TensorFlow_module.ipynb\" target=\"_parent\"><img src=\"https://colab.research.google.com/assets/colab-badge.svg\" alt=\"Open In Colab\"/></a>"
      ]
    },
    {
      "cell_type": "markdown",
      "metadata": {
        "id": "CRImUonpqSyf"
      },
      "source": [
        "#**ML model with TensorFlow2**"
      ]
    },
    {
      "cell_type": "markdown",
      "metadata": {
        "id": "I532jIBVVZAd"
      },
      "source": [
        "# **Import libs**"
      ]
    },
    {
      "cell_type": "code",
      "metadata": {
        "id": "vC2MM6I9VK3F"
      },
      "source": [
        "import pandas as pd\n",
        "import numpy as np\n",
        "from matplotlib import pyplot as plt\n",
        "from sklearn.model_selection import train_test_split\n",
        "from sklearn.dummy import DummyRegressor\n",
        "from sklearn.metrics import mean_squared_error"
      ],
      "execution_count": 74,
      "outputs": []
    },
    {
      "cell_type": "code",
      "metadata": {
        "id": "OC_nnWx7VzxK"
      },
      "source": [
        "#@title Using TensorFlow 2.x\n",
        "%tensorflow_version 2.x\n",
        "import tensorflow as tf"
      ],
      "execution_count": 75,
      "outputs": []
    },
    {
      "cell_type": "markdown",
      "metadata": {
        "id": "U0zJbIr5ohFx"
      },
      "source": [
        "TensorFlow (TF) is an end-to-end open source platform for machine learning.\n",
        "\n",
        "Its APIs are organized hierarchically, with the high-level APIs built on the low-level APIs. \n",
        "\n",
        "Low-level APIs are used to explore new machine learning algorithms.\n",
        "\n",
        "On the contrary, the high-level API named **tf.keras** is used to train and define machine learning models.\n",
        "\n",
        "TF documentation: https://www.tensorflow.org/"
      ]
    },
    {
      "cell_type": "markdown",
      "metadata": {
        "id": "evrJ1t1YWDHc"
      },
      "source": [
        "# **Functions**"
      ]
    },
    {
      "cell_type": "markdown",
      "metadata": {
        "id": "7QkAkflKbaAP"
      },
      "source": [
        "**Baseline model: Dummy Regressor using the mean values of target feature**\n",
        "\n",
        "Build, train and make predictions via the Dummy Regressor model using as input parameters the dataset entries (features and labels)."
      ]
    },
    {
      "cell_type": "code",
      "metadata": {
        "id": "2sURK5gPHn7n"
      },
      "source": [
        "def dummy_prediction(train_X, train_y, val_X, val_y):\n",
        "  ##baseline model\n",
        "  ##inner prediction function\n",
        "  def dummy_model():\n",
        "    dummy = DummyRegressor('mean')\n",
        "    dummy.fit(train_X, train_y)\n",
        "    return dummy.predict(val_X)\n",
        "\n",
        "  return np.sqrt(mean_squared_error(val_y, dummy_model())) #return RMSE"
      ],
      "execution_count": 76,
      "outputs": []
    },
    {
      "cell_type": "markdown",
      "metadata": {
        "id": "WQFL6lo2WorO"
      },
      "source": [
        "**Build the TF ML model**\n",
        "\n",
        "Simple Linear Regression using tf.keras."
      ]
    },
    {
      "cell_type": "code",
      "metadata": {
        "id": "jqTJNAn4WJWu"
      },
      "source": [
        "def build_model(learning_rate, n_features):\n",
        "  ##the most simple keras models are sequential, which has one or more layers\n",
        "  lr_model = tf.keras.models.Sequential()\n",
        "\n",
        "  ##the topography of a simple linear regression is a single node (unit) in a single layer \n",
        "  lr_model.add(tf.keras.layers.Dense(units=1, input_shape=(n_features,)))\n",
        "\n",
        "  ##compile the model topography to minimize the model's mean squared error while training \n",
        "  lr_model.compile(optimizer=tf.keras.optimizers.RMSprop(lr=learning_rate),\n",
        "                loss=\"mean_squared_error\",\n",
        "                metrics=[tf.keras.metrics.RootMeanSquaredError()])\n",
        "\n",
        "  return lr_model"
      ],
      "execution_count": 77,
      "outputs": []
    },
    {
      "cell_type": "markdown",
      "metadata": {
        "id": "44cFjc5QWx22"
      },
      "source": [
        "**Train the TF ML model with the input data (features and labels)**"
      ]
    },
    {
      "cell_type": "code",
      "metadata": {
        "id": "XCK02xkmWwyU"
      },
      "source": [
        "def train_model(model, x_df, y_df, features, epochs, batch_size):\n",
        "  history = model.fit(x=x_df[features],\n",
        "                      y=y_df,\n",
        "                      batch_size=batch_size,\n",
        "                      epochs=epochs, \n",
        "                      verbose=0)\n",
        "\n",
        "  ##trained model's parameters\n",
        "  trained_weight = model.get_weights()[0]\n",
        "  trained_bias = model.get_weights()[1]\n",
        "  epochs = history.epoch\n",
        "  \n",
        "  ##history of each epoch\n",
        "  hist = pd.DataFrame(history.history)\n",
        "\n",
        "  rmse = hist[\"root_mean_squared_error\"]\n",
        "\n",
        "  return trained_weight, trained_bias, epochs, rmse"
      ],
      "execution_count": 78,
      "outputs": []
    },
    {
      "cell_type": "markdown",
      "metadata": {
        "id": "49mhGWBvsi2I"
      },
      "source": [
        "**Plot functions**"
      ]
    },
    {
      "cell_type": "code",
      "metadata": {
        "id": "uvibu-7hsfE8"
      },
      "source": [
        "def plot_model(trained_weight, trained_bias, train_df, feature, label):\n",
        "  \"\"\"Plot the trained model against the training feature and label\"\"\"\n",
        "  \n",
        "  ##create a scatter plot from some random points\n",
        "  random_data = train_df.sample(n=200, random_state=42)\n",
        "  plt.scatter(random_data[feature], random_data[label])\n",
        "\n",
        "  plt.xlabel(feature)\n",
        "  plt.ylabel(label)\n",
        "\n",
        "  x0 = 0\n",
        "  y0 = trained_bias\n",
        "  #x1 = feature[-1]\n",
        "  x1 = 10000\n",
        "  y1 = trained_bias + (trained_weight * x1)\n",
        "  plt.plot([x0, x1], [y0, y1], c='r')\n",
        "\n",
        "  plt.show()"
      ],
      "execution_count": 79,
      "outputs": []
    },
    {
      "cell_type": "code",
      "metadata": {
        "id": "7VKsg8dRshlN"
      },
      "source": [
        "def plot_loss_curve(epochs, rmse):\n",
        "  \"\"\"Plot the loss curve, which shows loss vs. epoch\"\"\"\n",
        "\n",
        "  plt.figure()\n",
        "  plt.xlabel(\"Epoch\")\n",
        "  plt.ylabel(\"Root Mean Squared Error\")\n",
        "\n",
        "  plt.plot(epochs, rmse, label=\"Loss\")\n",
        "  plt.legend()\n",
        "  plt.ylim([rmse.min()*0.97, rmse.max()])\n",
        "  plt.show()"
      ],
      "execution_count": 80,
      "outputs": []
    },
    {
      "cell_type": "markdown",
      "metadata": {
        "id": "J2MXj5RtwtlI"
      },
      "source": [
        "#**Dataset and Training**\n",
        "\n",
        "**The dataset describes the 1990 census data from California.**"
      ]
    },
    {
      "cell_type": "markdown",
      "metadata": {
        "id": "LsOGfn7_xzfb"
      },
      "source": [
        "**Load the dataset from Google repository**\n",
        "\n",
        "https://download.mlcc.google.com/mledu-datasets/california_housing_train.csv\n",
        "\n",
        "> The dataset contains 17000 data entries with 9 features. 8 independent variables $X$ and one label (dependent variable $y$).\n",
        "\n",
        "> The goal is to predict the target feature ($y$) **median_house_value** for new data based on the train dataset.\\\n",
        "To do so, we are going to train a linear regression model. The model predicts house value based on the other selected features from the dataset.  \n",
        "\n",
        "* It has not any missing data. \n",
        "\n",
        "* All features are numerical (float64).\n",
        "\n",
        "The following parameters of the linear regression model must be adjusted to let the model converge (min loss) and better fit the data:\n",
        "* learning rate\n",
        "* number of epochs\n",
        "* batch size\n",
        "\n",
        "Training loss should steadily decrease, steeply at first, and then more slowly. The loss should stay steady at the final epochs (nearly zero slope), which indicates that model has converged.\n",
        "\n",
        "PS: One epoch covers sufficient iterations to process every entry in the dataset. Then, epoch is different of iteration. At the end of each iteration, the model's parameters are adjusted based on the reached loss value.\n",
        "\n",
        "To predict the target feature it is necessary to determine which features correlate with the label. \n",
        "\n",
        "**However, our first linear regression model with TF is going to use a single feature as independent variable. Then, it will be extended to handle multiple variables.**"
      ]
    },
    {
      "cell_type": "code",
      "metadata": {
        "colab": {
          "base_uri": "https://localhost:8080/",
          "height": 790
        },
        "id": "-70bbOtxx2sv",
        "outputId": "b803e073-2adc-4354-e5a9-45dc289810dd"
      },
      "source": [
        "df = pd.read_csv(filepath_or_buffer=\"https://download.mlcc.google.com/mledu-datasets/california_housing_train.csv\")\n",
        "print(df.shape)\n",
        "display(df.describe())\n",
        "display(df.info())\n",
        "display(df.head())\n",
        "\n",
        "df[\"median_house_value\"] /= 1000.0 #rescale the label (y)"
      ],
      "execution_count": 81,
      "outputs": [
        {
          "output_type": "stream",
          "text": [
            "(17000, 9)\n"
          ],
          "name": "stdout"
        },
        {
          "output_type": "display_data",
          "data": {
            "text/html": [
              "<div>\n",
              "<style scoped>\n",
              "    .dataframe tbody tr th:only-of-type {\n",
              "        vertical-align: middle;\n",
              "    }\n",
              "\n",
              "    .dataframe tbody tr th {\n",
              "        vertical-align: top;\n",
              "    }\n",
              "\n",
              "    .dataframe thead th {\n",
              "        text-align: right;\n",
              "    }\n",
              "</style>\n",
              "<table border=\"1\" class=\"dataframe\">\n",
              "  <thead>\n",
              "    <tr style=\"text-align: right;\">\n",
              "      <th></th>\n",
              "      <th>longitude</th>\n",
              "      <th>latitude</th>\n",
              "      <th>housing_median_age</th>\n",
              "      <th>total_rooms</th>\n",
              "      <th>total_bedrooms</th>\n",
              "      <th>population</th>\n",
              "      <th>households</th>\n",
              "      <th>median_income</th>\n",
              "      <th>median_house_value</th>\n",
              "    </tr>\n",
              "  </thead>\n",
              "  <tbody>\n",
              "    <tr>\n",
              "      <th>count</th>\n",
              "      <td>17000.000000</td>\n",
              "      <td>17000.000000</td>\n",
              "      <td>17000.000000</td>\n",
              "      <td>17000.000000</td>\n",
              "      <td>17000.000000</td>\n",
              "      <td>17000.000000</td>\n",
              "      <td>17000.000000</td>\n",
              "      <td>17000.000000</td>\n",
              "      <td>17000.000000</td>\n",
              "    </tr>\n",
              "    <tr>\n",
              "      <th>mean</th>\n",
              "      <td>-119.562108</td>\n",
              "      <td>35.625225</td>\n",
              "      <td>28.589353</td>\n",
              "      <td>2643.664412</td>\n",
              "      <td>539.410824</td>\n",
              "      <td>1429.573941</td>\n",
              "      <td>501.221941</td>\n",
              "      <td>3.883578</td>\n",
              "      <td>207300.912353</td>\n",
              "    </tr>\n",
              "    <tr>\n",
              "      <th>std</th>\n",
              "      <td>2.005166</td>\n",
              "      <td>2.137340</td>\n",
              "      <td>12.586937</td>\n",
              "      <td>2179.947071</td>\n",
              "      <td>421.499452</td>\n",
              "      <td>1147.852959</td>\n",
              "      <td>384.520841</td>\n",
              "      <td>1.908157</td>\n",
              "      <td>115983.764387</td>\n",
              "    </tr>\n",
              "    <tr>\n",
              "      <th>min</th>\n",
              "      <td>-124.350000</td>\n",
              "      <td>32.540000</td>\n",
              "      <td>1.000000</td>\n",
              "      <td>2.000000</td>\n",
              "      <td>1.000000</td>\n",
              "      <td>3.000000</td>\n",
              "      <td>1.000000</td>\n",
              "      <td>0.499900</td>\n",
              "      <td>14999.000000</td>\n",
              "    </tr>\n",
              "    <tr>\n",
              "      <th>25%</th>\n",
              "      <td>-121.790000</td>\n",
              "      <td>33.930000</td>\n",
              "      <td>18.000000</td>\n",
              "      <td>1462.000000</td>\n",
              "      <td>297.000000</td>\n",
              "      <td>790.000000</td>\n",
              "      <td>282.000000</td>\n",
              "      <td>2.566375</td>\n",
              "      <td>119400.000000</td>\n",
              "    </tr>\n",
              "    <tr>\n",
              "      <th>50%</th>\n",
              "      <td>-118.490000</td>\n",
              "      <td>34.250000</td>\n",
              "      <td>29.000000</td>\n",
              "      <td>2127.000000</td>\n",
              "      <td>434.000000</td>\n",
              "      <td>1167.000000</td>\n",
              "      <td>409.000000</td>\n",
              "      <td>3.544600</td>\n",
              "      <td>180400.000000</td>\n",
              "    </tr>\n",
              "    <tr>\n",
              "      <th>75%</th>\n",
              "      <td>-118.000000</td>\n",
              "      <td>37.720000</td>\n",
              "      <td>37.000000</td>\n",
              "      <td>3151.250000</td>\n",
              "      <td>648.250000</td>\n",
              "      <td>1721.000000</td>\n",
              "      <td>605.250000</td>\n",
              "      <td>4.767000</td>\n",
              "      <td>265000.000000</td>\n",
              "    </tr>\n",
              "    <tr>\n",
              "      <th>max</th>\n",
              "      <td>-114.310000</td>\n",
              "      <td>41.950000</td>\n",
              "      <td>52.000000</td>\n",
              "      <td>37937.000000</td>\n",
              "      <td>6445.000000</td>\n",
              "      <td>35682.000000</td>\n",
              "      <td>6082.000000</td>\n",
              "      <td>15.000100</td>\n",
              "      <td>500001.000000</td>\n",
              "    </tr>\n",
              "  </tbody>\n",
              "</table>\n",
              "</div>"
            ],
            "text/plain": [
              "          longitude      latitude  ...  median_income  median_house_value\n",
              "count  17000.000000  17000.000000  ...   17000.000000        17000.000000\n",
              "mean    -119.562108     35.625225  ...       3.883578       207300.912353\n",
              "std        2.005166      2.137340  ...       1.908157       115983.764387\n",
              "min     -124.350000     32.540000  ...       0.499900        14999.000000\n",
              "25%     -121.790000     33.930000  ...       2.566375       119400.000000\n",
              "50%     -118.490000     34.250000  ...       3.544600       180400.000000\n",
              "75%     -118.000000     37.720000  ...       4.767000       265000.000000\n",
              "max     -114.310000     41.950000  ...      15.000100       500001.000000\n",
              "\n",
              "[8 rows x 9 columns]"
            ]
          },
          "metadata": {
            "tags": []
          }
        },
        {
          "output_type": "stream",
          "text": [
            "<class 'pandas.core.frame.DataFrame'>\n",
            "RangeIndex: 17000 entries, 0 to 16999\n",
            "Data columns (total 9 columns):\n",
            " #   Column              Non-Null Count  Dtype  \n",
            "---  ------              --------------  -----  \n",
            " 0   longitude           17000 non-null  float64\n",
            " 1   latitude            17000 non-null  float64\n",
            " 2   housing_median_age  17000 non-null  float64\n",
            " 3   total_rooms         17000 non-null  float64\n",
            " 4   total_bedrooms      17000 non-null  float64\n",
            " 5   population          17000 non-null  float64\n",
            " 6   households          17000 non-null  float64\n",
            " 7   median_income       17000 non-null  float64\n",
            " 8   median_house_value  17000 non-null  float64\n",
            "dtypes: float64(9)\n",
            "memory usage: 1.2 MB\n"
          ],
          "name": "stdout"
        },
        {
          "output_type": "display_data",
          "data": {
            "text/plain": [
              "None"
            ]
          },
          "metadata": {
            "tags": []
          }
        },
        {
          "output_type": "display_data",
          "data": {
            "text/html": [
              "<div>\n",
              "<style scoped>\n",
              "    .dataframe tbody tr th:only-of-type {\n",
              "        vertical-align: middle;\n",
              "    }\n",
              "\n",
              "    .dataframe tbody tr th {\n",
              "        vertical-align: top;\n",
              "    }\n",
              "\n",
              "    .dataframe thead th {\n",
              "        text-align: right;\n",
              "    }\n",
              "</style>\n",
              "<table border=\"1\" class=\"dataframe\">\n",
              "  <thead>\n",
              "    <tr style=\"text-align: right;\">\n",
              "      <th></th>\n",
              "      <th>longitude</th>\n",
              "      <th>latitude</th>\n",
              "      <th>housing_median_age</th>\n",
              "      <th>total_rooms</th>\n",
              "      <th>total_bedrooms</th>\n",
              "      <th>population</th>\n",
              "      <th>households</th>\n",
              "      <th>median_income</th>\n",
              "      <th>median_house_value</th>\n",
              "    </tr>\n",
              "  </thead>\n",
              "  <tbody>\n",
              "    <tr>\n",
              "      <th>0</th>\n",
              "      <td>-114.31</td>\n",
              "      <td>34.19</td>\n",
              "      <td>15.0</td>\n",
              "      <td>5612.0</td>\n",
              "      <td>1283.0</td>\n",
              "      <td>1015.0</td>\n",
              "      <td>472.0</td>\n",
              "      <td>1.4936</td>\n",
              "      <td>66900.0</td>\n",
              "    </tr>\n",
              "    <tr>\n",
              "      <th>1</th>\n",
              "      <td>-114.47</td>\n",
              "      <td>34.40</td>\n",
              "      <td>19.0</td>\n",
              "      <td>7650.0</td>\n",
              "      <td>1901.0</td>\n",
              "      <td>1129.0</td>\n",
              "      <td>463.0</td>\n",
              "      <td>1.8200</td>\n",
              "      <td>80100.0</td>\n",
              "    </tr>\n",
              "    <tr>\n",
              "      <th>2</th>\n",
              "      <td>-114.56</td>\n",
              "      <td>33.69</td>\n",
              "      <td>17.0</td>\n",
              "      <td>720.0</td>\n",
              "      <td>174.0</td>\n",
              "      <td>333.0</td>\n",
              "      <td>117.0</td>\n",
              "      <td>1.6509</td>\n",
              "      <td>85700.0</td>\n",
              "    </tr>\n",
              "    <tr>\n",
              "      <th>3</th>\n",
              "      <td>-114.57</td>\n",
              "      <td>33.64</td>\n",
              "      <td>14.0</td>\n",
              "      <td>1501.0</td>\n",
              "      <td>337.0</td>\n",
              "      <td>515.0</td>\n",
              "      <td>226.0</td>\n",
              "      <td>3.1917</td>\n",
              "      <td>73400.0</td>\n",
              "    </tr>\n",
              "    <tr>\n",
              "      <th>4</th>\n",
              "      <td>-114.57</td>\n",
              "      <td>33.57</td>\n",
              "      <td>20.0</td>\n",
              "      <td>1454.0</td>\n",
              "      <td>326.0</td>\n",
              "      <td>624.0</td>\n",
              "      <td>262.0</td>\n",
              "      <td>1.9250</td>\n",
              "      <td>65500.0</td>\n",
              "    </tr>\n",
              "  </tbody>\n",
              "</table>\n",
              "</div>"
            ],
            "text/plain": [
              "   longitude  latitude  ...  median_income  median_house_value\n",
              "0    -114.31     34.19  ...         1.4936             66900.0\n",
              "1    -114.47     34.40  ...         1.8200             80100.0\n",
              "2    -114.56     33.69  ...         1.6509             85700.0\n",
              "3    -114.57     33.64  ...         3.1917             73400.0\n",
              "4    -114.57     33.57  ...         1.9250             65500.0\n",
              "\n",
              "[5 rows x 9 columns]"
            ]
          },
          "metadata": {
            "tags": []
          }
        }
      ]
    },
    {
      "cell_type": "markdown",
      "metadata": {
        "id": "NAcB8-Hbg8wf"
      },
      "source": [
        "**Dataset split: train and validation**"
      ]
    },
    {
      "cell_type": "code",
      "metadata": {
        "id": "4KrN_GX2xCPA"
      },
      "source": [
        "features=['longitude', 'latitude', 'housing_median_age', 'total_rooms', 'total_bedrooms',\t'population',\t'households',\t'median_income'] #independent variables\n",
        "features=['total_rooms', 'total_bedrooms']  \n",
        "\n",
        "label='median_house_value' #target variable\n",
        "\n",
        "X = df[features]\n",
        "y = df[label]\n",
        "\n",
        "X_train, X_val, y_train, y_val = train_test_split(X, y, test_size=0.2, random_state=42)\n",
        "\n",
        "splitted_df=X_train.copy()\n",
        "splitted_df['median_house_value']=y_train.copy()"
      ],
      "execution_count": 82,
      "outputs": []
    },
    {
      "cell_type": "markdown",
      "metadata": {
        "id": "VCWxKEDhgiMT"
      },
      "source": [
        "**Train and Validation step:**\n",
        "\n",
        "1. Dummy Regressor model\n",
        "\n",
        "2. TF Linear Regression model\n",
        "\n"
      ]
    },
    {
      "cell_type": "code",
      "metadata": {
        "colab": {
          "base_uri": "https://localhost:8080/",
          "height": 1000
        },
        "id": "SJ_LiH3dhKLT",
        "outputId": "5397d8c2-1acc-4239-e09a-77d99cc260b4"
      },
      "source": [
        "##call Dummy model\n",
        "print('Dummy prediction | RMSE:', dummy_prediction(X_train, y_train, X_val, y_val)) #prediction accuracy of the dummy classifier\n",
        "\n",
        "##call TF model\n",
        "learning_rate = 0.01\n",
        "lr_model=build_model(learning_rate, n_features=1)\n",
        "\n",
        "for var_x in features:\n",
        "  print(\"Feature:\", var_x)\n",
        "  batch_size = 30\n",
        "  epochs = 30\n",
        "\n",
        "  trained_weight, trained_bias, epochs, rmse=train_model(lr_model, X_train, y_train, var_x, epochs, batch_size)\n",
        "  print(\"Trained weight of %.4f\" % trained_weight)\n",
        "  print(\"Trained bias of %.4f\" % trained_bias)\n",
        "  print('TF regression model | Train RMSE:', rmse.min())\n",
        "\n",
        "  plot_model(trained_weight, trained_bias, splitted_df, var_x, label)\n",
        "  plot_loss_curve(epochs, rmse)\n",
        "\n",
        "  predicted_val=lr_model.predict_on_batch(X_val[var_x])\n",
        "  print('TF regression model | Validation RMSE:', np.sqrt(mean_squared_error(y_val, predicted_val)))\n",
        "\n"
      ],
      "execution_count": 83,
      "outputs": [
        {
          "output_type": "stream",
          "text": [
            "Dummy prediction | RMSE: 117.42078641860235\n",
            "Feature: total_rooms\n"
          ],
          "name": "stdout"
        },
        {
          "output_type": "stream",
          "text": [
            "/usr/local/lib/python3.7/dist-packages/tensorflow/python/keras/optimizer_v2/optimizer_v2.py:375: UserWarning: The `lr` argument is deprecated, use `learning_rate` instead.\n",
            "  \"The `lr` argument is deprecated, use `learning_rate` instead.\")\n"
          ],
          "name": "stderr"
        },
        {
          "output_type": "stream",
          "text": [
            "Trained weight of 0.0157\n",
            "Trained bias of 110.5593\n",
            "TF regression model | Train RMSE: 128.4655303955078\n"
          ],
          "name": "stdout"
        },
        {
          "output_type": "stream",
          "text": [
            "/usr/local/lib/python3.7/dist-packages/numpy/core/_asarray.py:136: VisibleDeprecationWarning: Creating an ndarray from ragged nested sequences (which is a list-or-tuple of lists-or-tuples-or ndarrays with different lengths or shapes) is deprecated. If you meant to do this, you must specify 'dtype=object' when creating the ndarray\n",
            "  return array(a, dtype, copy=False, order=order, subok=True)\n"
          ],
          "name": "stderr"
        },
        {
          "output_type": "display_data",
          "data": {
            "image/png": "[encoded data removed]",
            "text/plain": [
              "<Figure size 432x288 with 1 Axes>"
            ]
          },
          "metadata": {
            "tags": [],
            "needs_background": "light"
          }
        },
        {
          "output_type": "display_data",
          "data": {
            "image/png": "[encoded data removed]",
            "text/plain": [
              "<Figure size 432x288 with 1 Axes>"
            ]
          },
          "metadata": {
            "tags": [],
            "needs_background": "light"
          }
        },
        {
          "output_type": "stream",
          "text": [
            "TF regression model | Validation RMSE: 130.77053270429295\n",
            "Feature: total_bedrooms\n",
            "Trained weight of 0.0144\n",
            "Trained bias of 184.3010\n",
            "TF regression model | Train RMSE: 116.34212493896484\n"
          ],
          "name": "stdout"
        },
        {
          "output_type": "stream",
          "text": [
            "/usr/local/lib/python3.7/dist-packages/numpy/core/_asarray.py:136: VisibleDeprecationWarning: Creating an ndarray from ragged nested sequences (which is a list-or-tuple of lists-or-tuples-or ndarrays with different lengths or shapes) is deprecated. If you meant to do this, you must specify 'dtype=object' when creating the ndarray\n",
            "  return array(a, dtype, copy=False, order=order, subok=True)\n"
          ],
          "name": "stderr"
        },
        {
          "output_type": "display_data",
          "data": {
            "image/png": "[encoded data removed]",
            "text/plain": [
              "<Figure size 432x288 with 1 Axes>"
            ]
          },
          "metadata": {
            "tags": [],
            "needs_background": "light"
          }
        },
        {
          "output_type": "display_data",
          "data": {
            "image/png": "[encoded data removed]",
            "text/plain": [
              "<Figure size 432x288 with 1 Axes>"
            ]
          },
          "metadata": {
            "tags": [],
            "needs_background": "light"
          }
        },
        {
          "output_type": "stream",
          "text": [
            "TF regression model | Validation RMSE: 118.5286729299747\n"
          ],
          "name": "stdout"
        }
      ]
    },
    {
      "cell_type": "markdown",
      "metadata": {
        "id": "ecrQR5ouAXWr"
      },
      "source": [
        "**Hyperparameter tuning**\n",
        "\n",
        "In general, ML problems require a lot of hyperparameter tuning. However, there aren't concrete rules for every model. Then, it's necessary to test distinct values in order to find the best set of hyperparameters for model and dataset [[Google AI](https://ai.google/education/)].\n",
        "\n",
        "The ideal combination of hyperparameters is data dependent, so it's important to always experiment and verify like a cyclical process."
      ]
    }
  ]
}