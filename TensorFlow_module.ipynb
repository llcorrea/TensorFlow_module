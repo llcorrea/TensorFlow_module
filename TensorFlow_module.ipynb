{
  "nbformat": 4,
  "nbformat_minor": 0,
  "metadata": {
    "colab": {
      "name": "TensorFlow_module.ipynb",
      "provenance": [],
      "collapsed_sections": [],
      "authorship_tag": "ABX9TyMyyb4397VkthhXV1d9NOEn",
      "include_colab_link": true
    },
    "kernelspec": {
      "name": "python3",
      "display_name": "Python 3"
    },
    "language_info": {
      "name": "python"
    }
  },
  "cells": [
    {
      "cell_type": "markdown",
      "metadata": {
        "id": "view-in-github",
        "colab_type": "text"
      },
      "source": [
        "<a href=\"https://colab.research.google.com/github/llcorrea/TensorFlow_module/blob/main/TensorFlow_module.ipynb\" target=\"_parent\"><img src=\"https://colab.research.google.com/assets/colab-badge.svg\" alt=\"Open In Colab\"/></a>"
      ]
    },
    {
      "cell_type": "markdown",
      "metadata": {
        "id": "CRImUonpqSyf"
      },
      "source": [
        "#**ML model with TensorFlow 2**"
      ]
    },
    {
      "cell_type": "markdown",
      "metadata": {
        "id": "I532jIBVVZAd"
      },
      "source": [
        "# **Import libs**"
      ]
    },
    {
      "cell_type": "code",
      "metadata": {
        "id": "vC2MM6I9VK3F"
      },
      "source": [
        "import pandas as pd\n",
        "from matplotlib import pyplot as plt\n",
        "from sklearn.model_selection import train_test_split"
      ],
      "execution_count": 24,
      "outputs": []
    },
    {
      "cell_type": "code",
      "metadata": {
        "id": "OC_nnWx7VzxK"
      },
      "source": [
        "#@title Using TensorFlow 2.x\n",
        "%tensorflow_version 2.x\n",
        "import tensorflow as tf"
      ],
      "execution_count": 10,
      "outputs": []
    },
    {
      "cell_type": "markdown",
      "metadata": {
        "id": "U0zJbIr5ohFx"
      },
      "source": [
        "TensorFlow (TF) is an end-to-end open source platform for machine learning.\n",
        "\n",
        "Its APIs are organized hierarchically, with the high-level APIs built on the low-level APIs. \n",
        "\n",
        "Low-level APIs are used to explore new machine learning algorithms.\n",
        "\n",
        "On the contrary, the high-level API named **tf.keras** is used to train and define machine learning models.\n",
        "\n",
        "TF documentation: https://www.tensorflow.org/"
      ]
    },
    {
      "cell_type": "markdown",
      "metadata": {
        "id": "evrJ1t1YWDHc"
      },
      "source": [
        "# **Functions**"
      ]
    },
    {
      "cell_type": "markdown",
      "metadata": {
        "id": "WQFL6lo2WorO"
      },
      "source": [
        "**Build the ML model**\n",
        "\n",
        "Simple Linear Regression using tf.keras."
      ]
    },
    {
      "cell_type": "code",
      "metadata": {
        "id": "jqTJNAn4WJWu"
      },
      "source": [
        "def build_model(learning_rate, n_features):\n",
        "  ##the most simple keras models are sequential, which has one or more layers\n",
        "  lr_model = tf.keras.models.Sequential()\n",
        "\n",
        "  ##the topography of a simple linear regression is a single node (unit) in a single layer \n",
        "  lr_model.add(tf.keras.layers.Dense(units=1, input_shape=(n_features,)))\n",
        "\n",
        "  ##compile the model topography to minimize the model's mean squared error while training \n",
        "  lr_model.compile(optimizer=tf.keras.optimizers.RMSprop(lr=learning_rate),\n",
        "                loss=\"mean_squared_error\",\n",
        "                metrics=[tf.keras.metrics.RootMeanSquaredError()])\n",
        "\n",
        "  return lr_model"
      ],
      "execution_count": 20,
      "outputs": []
    },
    {
      "cell_type": "markdown",
      "metadata": {
        "id": "44cFjc5QWx22"
      },
      "source": [
        "**Train the ML model with the input data (features and labels)**"
      ]
    },
    {
      "cell_type": "code",
      "metadata": {
        "id": "XCK02xkmWwyU"
      },
      "source": [
        "def train_model(model, x_df, y_df, features, label, epochs, batch_size):\n",
        "  history = model.fit(x=x_df[features],\n",
        "                      y=y_df,\n",
        "                      batch_size=batch_size,\n",
        "                      epochs=epochs, verbose=0)\n",
        "\n",
        "  ##trained model's parameters\n",
        "  trained_weight = model.get_weights()[0]\n",
        "  trained_bias = model.get_weights()[1]\n",
        "  epochs = history.epoch\n",
        "  \n",
        "  ##history of each epoch\n",
        "  hist = pd.DataFrame(history.history)\n",
        "\n",
        "  rmse = hist[\"root_mean_squared_error\"]\n",
        "\n",
        "  return trained_weight, trained_bias, epochs, rmse"
      ],
      "execution_count": 26,
      "outputs": []
    },
    {
      "cell_type": "markdown",
      "metadata": {
        "id": "49mhGWBvsi2I"
      },
      "source": [
        "**Plotting functions**"
      ]
    },
    {
      "cell_type": "code",
      "metadata": {
        "id": "uvibu-7hsfE8"
      },
      "source": [
        "def plot_model(trained_weight, trained_bias, train_df, feature, label):\n",
        "  \"\"\"Plot the trained model against the training feature and label\"\"\"\n",
        "  \n",
        "  ##create a scatter plot from some random points\n",
        "  random_data = train_df.sample(n=200)\n",
        "  plt.scatter(random_data[feature], random_data[label])\n",
        "\n",
        "  plt.xlabel(feature)\n",
        "  plt.ylabel(label)\n",
        "\n",
        "  x0 = 0\n",
        "  y0 = trained_bias\n",
        "  #x1 = feature[-1]\n",
        "  x1 = 10000\n",
        "  y1 = trained_bias + (trained_weight * x1)\n",
        "  plt.plot([x0, x1], [y0, y1], c='r')\n",
        "\n",
        "  plt.show()"
      ],
      "execution_count": 13,
      "outputs": []
    },
    {
      "cell_type": "code",
      "metadata": {
        "id": "7VKsg8dRshlN"
      },
      "source": [
        "def plot_loss_curve(epochs, rmse):\n",
        "  \"\"\"Plot the loss curve, which shows loss vs. epoch\"\"\"\n",
        "\n",
        "  plt.figure()\n",
        "  plt.xlabel(\"Epoch\")\n",
        "  plt.ylabel(\"Root Mean Squared Error\")\n",
        "\n",
        "  plt.plot(epochs, rmse, label=\"Loss\")\n",
        "  plt.legend()\n",
        "  plt.ylim([rmse.min()*0.97, rmse.max()])\n",
        "  plt.show()"
      ],
      "execution_count": 14,
      "outputs": []
    },
    {
      "cell_type": "markdown",
      "metadata": {
        "id": "J2MXj5RtwtlI"
      },
      "source": [
        "#**Dataset and Training**\n",
        "\n",
        "The dataset describes the 1990 census data from California."
      ]
    },
    {
      "cell_type": "markdown",
      "metadata": {
        "id": "LsOGfn7_xzfb"
      },
      "source": [
        "**Load the dataset from Google repository**\n",
        "\n",
        "https://download.mlcc.google.com/mledu-datasets/california_housing_train.csv\n",
        "\n",
        "> The dataset contains 17000 data entries with 9 features. 8 independent variables $X$ and one label (dependent variable $y$).\n",
        "\n",
        "> The goal is to predict the target feature ($y$) **median_house_value** for new data based on the train dataset.\\\n",
        "To do so, we are going to train a linear regression model. The model predicts house value based on the other selected features from the dataset.  \n",
        "\n",
        "* It has not any missing data. \n",
        "\n",
        "* All features are numerical (float64).\n",
        "\n",
        "The following parameters of the linear regression model must be adjusted to let the model converge (min loss) and better fit the data:\n",
        "* learning rate\n",
        "* number of epochs\n",
        "* batch size\n",
        "\n",
        "Training loss should steadily decrease, steeply at first, and then more slowly. The loss should stay steady at the final epochs (nearly zero slope), which indicates that model has converged.\n",
        "\n",
        "PS: One epoch covers sufficient iterations to process every entry in the dataset. Then, epoch is different of iteration. At the end of each iteration, the model's parameters are adjusted based on the reached loss value."
      ]
    },
    {
      "cell_type": "code",
      "metadata": {
        "colab": {
          "base_uri": "https://localhost:8080/",
          "height": 606
        },
        "id": "-70bbOtxx2sv",
        "outputId": "9cdb9547-940c-4c5b-e6cd-281532440b83"
      },
      "source": [
        "df = pd.read_csv(filepath_or_buffer=\"https://download.mlcc.google.com/mledu-datasets/california_housing_train.csv\")\n",
        "print(df.shape)\n",
        "df.head()\n",
        "display(df.describe())\n",
        "df.info()\n",
        "\n",
        "df[\"median_house_value\"] /= 1000.0 #rescale the label (y)\n",
        "\n"
      ],
      "execution_count": 15,
      "outputs": [
        {
          "output_type": "stream",
          "text": [
            "(17000, 9)\n"
          ],
          "name": "stdout"
        },
        {
          "output_type": "display_data",
          "data": {
            "text/html": [
              "<div>\n",
              "<style scoped>\n",
              "    .dataframe tbody tr th:only-of-type {\n",
              "        vertical-align: middle;\n",
              "    }\n",
              "\n",
              "    .dataframe tbody tr th {\n",
              "        vertical-align: top;\n",
              "    }\n",
              "\n",
              "    .dataframe thead th {\n",
              "        text-align: right;\n",
              "    }\n",
              "</style>\n",
              "<table border=\"1\" class=\"dataframe\">\n",
              "  <thead>\n",
              "    <tr style=\"text-align: right;\">\n",
              "      <th></th>\n",
              "      <th>longitude</th>\n",
              "      <th>latitude</th>\n",
              "      <th>housing_median_age</th>\n",
              "      <th>total_rooms</th>\n",
              "      <th>total_bedrooms</th>\n",
              "      <th>population</th>\n",
              "      <th>households</th>\n",
              "      <th>median_income</th>\n",
              "      <th>median_house_value</th>\n",
              "    </tr>\n",
              "  </thead>\n",
              "  <tbody>\n",
              "    <tr>\n",
              "      <th>count</th>\n",
              "      <td>17000.000000</td>\n",
              "      <td>17000.000000</td>\n",
              "      <td>17000.000000</td>\n",
              "      <td>17000.000000</td>\n",
              "      <td>17000.000000</td>\n",
              "      <td>17000.000000</td>\n",
              "      <td>17000.000000</td>\n",
              "      <td>17000.000000</td>\n",
              "      <td>17000.000000</td>\n",
              "    </tr>\n",
              "    <tr>\n",
              "      <th>mean</th>\n",
              "      <td>-119.562108</td>\n",
              "      <td>35.625225</td>\n",
              "      <td>28.589353</td>\n",
              "      <td>2643.664412</td>\n",
              "      <td>539.410824</td>\n",
              "      <td>1429.573941</td>\n",
              "      <td>501.221941</td>\n",
              "      <td>3.883578</td>\n",
              "      <td>207300.912353</td>\n",
              "    </tr>\n",
              "    <tr>\n",
              "      <th>std</th>\n",
              "      <td>2.005166</td>\n",
              "      <td>2.137340</td>\n",
              "      <td>12.586937</td>\n",
              "      <td>2179.947071</td>\n",
              "      <td>421.499452</td>\n",
              "      <td>1147.852959</td>\n",
              "      <td>384.520841</td>\n",
              "      <td>1.908157</td>\n",
              "      <td>115983.764387</td>\n",
              "    </tr>\n",
              "    <tr>\n",
              "      <th>min</th>\n",
              "      <td>-124.350000</td>\n",
              "      <td>32.540000</td>\n",
              "      <td>1.000000</td>\n",
              "      <td>2.000000</td>\n",
              "      <td>1.000000</td>\n",
              "      <td>3.000000</td>\n",
              "      <td>1.000000</td>\n",
              "      <td>0.499900</td>\n",
              "      <td>14999.000000</td>\n",
              "    </tr>\n",
              "    <tr>\n",
              "      <th>25%</th>\n",
              "      <td>-121.790000</td>\n",
              "      <td>33.930000</td>\n",
              "      <td>18.000000</td>\n",
              "      <td>1462.000000</td>\n",
              "      <td>297.000000</td>\n",
              "      <td>790.000000</td>\n",
              "      <td>282.000000</td>\n",
              "      <td>2.566375</td>\n",
              "      <td>119400.000000</td>\n",
              "    </tr>\n",
              "    <tr>\n",
              "      <th>50%</th>\n",
              "      <td>-118.490000</td>\n",
              "      <td>34.250000</td>\n",
              "      <td>29.000000</td>\n",
              "      <td>2127.000000</td>\n",
              "      <td>434.000000</td>\n",
              "      <td>1167.000000</td>\n",
              "      <td>409.000000</td>\n",
              "      <td>3.544600</td>\n",
              "      <td>180400.000000</td>\n",
              "    </tr>\n",
              "    <tr>\n",
              "      <th>75%</th>\n",
              "      <td>-118.000000</td>\n",
              "      <td>37.720000</td>\n",
              "      <td>37.000000</td>\n",
              "      <td>3151.250000</td>\n",
              "      <td>648.250000</td>\n",
              "      <td>1721.000000</td>\n",
              "      <td>605.250000</td>\n",
              "      <td>4.767000</td>\n",
              "      <td>265000.000000</td>\n",
              "    </tr>\n",
              "    <tr>\n",
              "      <th>max</th>\n",
              "      <td>-114.310000</td>\n",
              "      <td>41.950000</td>\n",
              "      <td>52.000000</td>\n",
              "      <td>37937.000000</td>\n",
              "      <td>6445.000000</td>\n",
              "      <td>35682.000000</td>\n",
              "      <td>6082.000000</td>\n",
              "      <td>15.000100</td>\n",
              "      <td>500001.000000</td>\n",
              "    </tr>\n",
              "  </tbody>\n",
              "</table>\n",
              "</div>"
            ],
            "text/plain": [
              "          longitude      latitude  ...  median_income  median_house_value\n",
              "count  17000.000000  17000.000000  ...   17000.000000        17000.000000\n",
              "mean    -119.562108     35.625225  ...       3.883578       207300.912353\n",
              "std        2.005166      2.137340  ...       1.908157       115983.764387\n",
              "min     -124.350000     32.540000  ...       0.499900        14999.000000\n",
              "25%     -121.790000     33.930000  ...       2.566375       119400.000000\n",
              "50%     -118.490000     34.250000  ...       3.544600       180400.000000\n",
              "75%     -118.000000     37.720000  ...       4.767000       265000.000000\n",
              "max     -114.310000     41.950000  ...      15.000100       500001.000000\n",
              "\n",
              "[8 rows x 9 columns]"
            ]
          },
          "metadata": {
            "tags": []
          }
        },
        {
          "output_type": "stream",
          "text": [
            "<class 'pandas.core.frame.DataFrame'>\n",
            "RangeIndex: 17000 entries, 0 to 16999\n",
            "Data columns (total 9 columns):\n",
            " #   Column              Non-Null Count  Dtype  \n",
            "---  ------              --------------  -----  \n",
            " 0   longitude           17000 non-null  float64\n",
            " 1   latitude            17000 non-null  float64\n",
            " 2   housing_median_age  17000 non-null  float64\n",
            " 3   total_rooms         17000 non-null  float64\n",
            " 4   total_bedrooms      17000 non-null  float64\n",
            " 5   population          17000 non-null  float64\n",
            " 6   households          17000 non-null  float64\n",
            " 7   median_income       17000 non-null  float64\n",
            " 8   median_house_value  17000 non-null  float64\n",
            "dtypes: float64(9)\n",
            "memory usage: 1.2 MB\n"
          ],
          "name": "stdout"
        }
      ]
    },
    {
      "cell_type": "code",
      "metadata": {
        "colab": {
          "base_uri": "https://localhost:8080/",
          "height": 1000
        },
        "id": "4KrN_GX2xCPA",
        "outputId": "dc749f9d-cf37-4589-c3fd-ab8461640ae1"
      },
      "source": [
        "features=['total_rooms', 'total_bedrooms']  \n",
        "label='median_house_value'\n",
        "\n",
        "learning_rate = 0.01\n",
        "lr_model=build_model(learning_rate, n_features=1)\n",
        "\n",
        "X_train, X_val, y_train, y_val = train_test_split(df[features], df[label], test_size=0.8, random_state=42)\n",
        "\n",
        "for var_x in features:\n",
        "  print(\"Feature:\", var_x)\n",
        "  batch_size = 30\n",
        "  epochs = 30\n",
        "  trained_weight, trained_bias, epochs, rmse=train_model(lr_model, X_train, y_train, var_x, label, epochs, batch_size)\n",
        "\n",
        "  print(\"Trained weight of %.4f\" % trained_weight[0])\n",
        "  print(\"Trained bias of %.4f\" % trained_bias[0])\n",
        "  print(\"RMSE of %.4f\" % rmse.min())      \n",
        "                  \n",
        "  plot_model(trained_weight, trained_bias, df, var_x, y)\n",
        "  plot_loss_curve(epochs, rmse)"
      ],
      "execution_count": 28,
      "outputs": [
        {
          "output_type": "stream",
          "text": [
            "/usr/local/lib/python3.7/dist-packages/tensorflow/python/keras/optimizer_v2/optimizer_v2.py:375: UserWarning: The `lr` argument is deprecated, use `learning_rate` instead.\n",
            "  \"The `lr` argument is deprecated, use `learning_rate` instead.\")\n"
          ],
          "name": "stderr"
        },
        {
          "output_type": "stream",
          "text": [
            "Feature: total_rooms\n",
            "Trained weight of 0.0246\n",
            "Trained bias of 26.9674\n",
            "RMSE of 155.6404\n"
          ],
          "name": "stdout"
        },
        {
          "output_type": "stream",
          "text": [
            "/usr/local/lib/python3.7/dist-packages/numpy/core/_asarray.py:136: VisibleDeprecationWarning: Creating an ndarray from ragged nested sequences (which is a list-or-tuple of lists-or-tuples-or ndarrays with different lengths or shapes) is deprecated. If you meant to do this, you must specify 'dtype=object' when creating the ndarray\n",
            "  return array(a, dtype, copy=False, order=order, subok=True)\n"
          ],
          "name": "stderr"
        },
        {
          "output_type": "display_data",
          "data": {
            "image/png": "[encoded data removed]",
            "text/plain": [
              "<Figure size 432x288 with 1 Axes>"
            ]
          },
          "metadata": {
            "tags": [],
            "needs_background": "light"
          }
        },
        {
          "output_type": "display_data",
          "data": {
            "image/png": "[encoded data removed]",
            "text/plain": [
              "<Figure size 432x288 with 1 Axes>"
            ]
          },
          "metadata": {
            "tags": [],
            "needs_background": "light"
          }
        },
        {
          "output_type": "stream",
          "text": [
            "Feature: total_bedrooms\n",
            "Trained weight of 0.1801\n",
            "Trained bias of 57.5526\n",
            "RMSE of 144.8330\n"
          ],
          "name": "stdout"
        },
        {
          "output_type": "stream",
          "text": [
            "/usr/local/lib/python3.7/dist-packages/numpy/core/_asarray.py:136: VisibleDeprecationWarning: Creating an ndarray from ragged nested sequences (which is a list-or-tuple of lists-or-tuples-or ndarrays with different lengths or shapes) is deprecated. If you meant to do this, you must specify 'dtype=object' when creating the ndarray\n",
            "  return array(a, dtype, copy=False, order=order, subok=True)\n"
          ],
          "name": "stderr"
        },
        {
          "output_type": "display_data",
          "data": {
            "image/png": "[encoded data removed]",
            "text/plain": [
              "<Figure size 432x288 with 1 Axes>"
            ]
          },
          "metadata": {
            "tags": [],
            "needs_background": "light"
          }
        },
        {
          "output_type": "display_data",
          "data": {
            "image/png": "[encoded data removed]",
            "text/plain": [
              "<Figure size 432x288 with 1 Axes>"
            ]
          },
          "metadata": {
            "tags": [],
            "needs_background": "light"
          }
        }
      ]
    },
    {
      "cell_type": "markdown",
      "metadata": {
        "id": "ecrQR5ouAXWr"
      },
      "source": [
        "**Hyperparameter tuning**\n",
        "\n",
        "In general, ML problems require a lot of hyperparameter tuning. However, there aren't concrete rules for every model. Then, it's necessary to test distinct values in order to find the best set of hyperparameters for model and dataset [[Google AI](https://ai.google/education/)].\n",
        "\n",
        "The ideal combination of hyperparameters is data dependent, so it's important to always experiment and verify like a cyclical process."
      ]
    }
  ]
}